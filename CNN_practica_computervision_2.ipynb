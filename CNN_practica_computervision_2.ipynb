{
  "nbformat": 4,
  "nbformat_minor": 0,
  "metadata": {
    "colab": {
      "provenance": [],
      "collapsed_sections": [],
      "authorship_tag": "ABX9TyOoS3dmTsAy1C/JKuDzbvtn",
      "include_colab_link": true
    },
    "kernelspec": {
      "name": "python3",
      "display_name": "Python 3"
    },
    "language_info": {
      "name": "python"
    },
    "accelerator": "GPU"
  },
  "cells": [
    {
      "cell_type": "markdown",
      "metadata": {
        "id": "view-in-github",
        "colab_type": "text"
      },
      "source": [
        "<a href=\"https://colab.research.google.com/github/ffelicioni/CV---Histopathologic-Cancer-Detection/blob/main/CNN_practica_computervision_2.ipynb\" target=\"_parent\"><img src=\"https://colab.research.google.com/assets/colab-badge.svg\" alt=\"Open In Colab\"/></a>"
      ]
    },
    {
      "cell_type": "markdown",
      "source": [
        "# Practica para quemadxs! -- CNN\n",
        "\n",
        "Clasificador para identificar tejido con metástasis en escaneos hispatológicos de secciones de ganglios linfáticos."
      ],
      "metadata": {
        "id": "MtNMA0j-IZqb"
      }
    },
    {
      "cell_type": "markdown",
      "source": [
        "## Modulos"
      ],
      "metadata": {
        "id": "2lWCqqxIIjX3"
      }
    },
    {
      "cell_type": "code",
      "execution_count": 1,
      "metadata": {
        "id": "rZLfzTuTIEPh"
      },
      "outputs": [],
      "source": [
        "# instalamos el paquete para descargar archivos\n",
        "#!pip install wget\n",
        "\n",
        "# montamos la unidad de Google Drive\n",
        "from google.colab import drive\n",
        "#drive.mount('/content/gdrive/')\n",
        "\n",
        "# data folder\n",
        "#from os import makedirs\n",
        "import os, os.path\n",
        "#datasets_folder = '/content/gdrive/My Drive/Colab Notebooks/Computer Vision/'\n",
        "#makedirs(datasets_folder, exist_ok=True)"
      ]
    },
    {
      "cell_type": "code",
      "source": [
        "#generales\n",
        "from PIL import Image\n",
        "import pandas as pd\n",
        "import numpy as np\n",
        "import matplotlib.pyplot as plt"
      ],
      "metadata": {
        "id": "oNHbIp7SjCQe"
      },
      "execution_count": 2,
      "outputs": []
    },
    {
      "cell_type": "code",
      "source": [
        "import torch\n",
        "from torch.utils.data import Dataset\n",
        "import torchvision.transforms as transforms\n",
        "from torch.utils.data import DataLoader\n",
        "import torch.nn as nn\n",
        "import torch.optim as optim\n",
        "from torchvision import transforms"
      ],
      "metadata": {
        "id": "PARBlKsnFgyf"
      },
      "execution_count": 3,
      "outputs": []
    },
    {
      "cell_type": "code",
      "source": [
        "!pip install opendatasets\n",
        "import opendatasets as od"
      ],
      "metadata": {
        "colab": {
          "base_uri": "https://localhost:8080/"
        },
        "id": "B-Fb2zpBOsi_",
        "outputId": "9b8d8f1f-60bb-4398-ca62-014376e0bf42"
      },
      "execution_count": 4,
      "outputs": [
        {
          "output_type": "stream",
          "name": "stdout",
          "text": [
            "Looking in indexes: https://pypi.org/simple, https://us-python.pkg.dev/colab-wheels/public/simple/\n",
            "Collecting opendatasets\n",
            "  Downloading opendatasets-0.1.22-py3-none-any.whl (15 kB)\n",
            "Requirement already satisfied: tqdm in /usr/local/lib/python3.7/dist-packages (from opendatasets) (4.64.1)\n",
            "Requirement already satisfied: click in /usr/local/lib/python3.7/dist-packages (from opendatasets) (7.1.2)\n",
            "Requirement already satisfied: kaggle in /usr/local/lib/python3.7/dist-packages (from opendatasets) (1.5.12)\n",
            "Requirement already satisfied: certifi in /usr/local/lib/python3.7/dist-packages (from kaggle->opendatasets) (2022.9.24)\n",
            "Requirement already satisfied: urllib3 in /usr/local/lib/python3.7/dist-packages (from kaggle->opendatasets) (1.24.3)\n",
            "Requirement already satisfied: six>=1.10 in /usr/local/lib/python3.7/dist-packages (from kaggle->opendatasets) (1.15.0)\n",
            "Requirement already satisfied: python-slugify in /usr/local/lib/python3.7/dist-packages (from kaggle->opendatasets) (6.1.2)\n",
            "Requirement already satisfied: python-dateutil in /usr/local/lib/python3.7/dist-packages (from kaggle->opendatasets) (2.8.2)\n",
            "Requirement already satisfied: requests in /usr/local/lib/python3.7/dist-packages (from kaggle->opendatasets) (2.23.0)\n",
            "Requirement already satisfied: text-unidecode>=1.3 in /usr/local/lib/python3.7/dist-packages (from python-slugify->kaggle->opendatasets) (1.3)\n",
            "Requirement already satisfied: chardet<4,>=3.0.2 in /usr/local/lib/python3.7/dist-packages (from requests->kaggle->opendatasets) (3.0.4)\n",
            "Requirement already satisfied: idna<3,>=2.5 in /usr/local/lib/python3.7/dist-packages (from requests->kaggle->opendatasets) (2.10)\n",
            "Installing collected packages: opendatasets\n",
            "Successfully installed opendatasets-0.1.22\n"
          ]
        }
      ]
    },
    {
      "cell_type": "code",
      "source": [
        "od.download(\"https://www.kaggle.com/competitions/histopathologic-cancer-detection/data/\")"
      ],
      "metadata": {
        "colab": {
          "base_uri": "https://localhost:8080/"
        },
        "id": "oYbxE1N4JkGI",
        "outputId": "69a8652a-c41c-4f63-e8ea-3b44518f6960"
      },
      "execution_count": 5,
      "outputs": [
        {
          "output_type": "stream",
          "name": "stdout",
          "text": [
            "Please provide your Kaggle credentials to download this dataset. Learn more: http://bit.ly/kaggle-creds\n",
            "Your Kaggle username: flaviafelicioni\n",
            "Your Kaggle Key: ··········\n",
            "Downloading histopathologic-cancer-detection.zip to ./histopathologic-cancer-detection\n"
          ]
        },
        {
          "output_type": "stream",
          "name": "stderr",
          "text": [
            "100%|██████████| 6.31G/6.31G [02:23<00:00, 47.2MB/s]\n"
          ]
        },
        {
          "output_type": "stream",
          "name": "stdout",
          "text": [
            "\n",
            "Extracting archive ./histopathologic-cancer-detection/histopathologic-cancer-detection.zip to ./histopathologic-cancer-detection\n"
          ]
        }
      ]
    },
    {
      "cell_type": "markdown",
      "source": [
        "## 1- Exploración"
      ],
      "metadata": {
        "id": "ELM2N7JweqBH"
      }
    },
    {
      "cell_type": "code",
      "source": [
        "# pedimos los tamaños \n",
        "PATH='/content/histopathologic-cancer-detection/'\n",
        "path_completo = PATH+'train/'\n",
        "N=len([name for name in os.listdir(path_completo) if os.path.isfile(os.path.join(path_completo, name))])\n",
        "print('histopathologic - Training + Val sets size: {}'.format(N))\n",
        "\n",
        "path_completo = PATH+'test/'\n",
        "N_test=len([name for name in os.listdir(path_completo) if os.path.isfile(os.path.join(path_completo, name))])\n",
        "print('histopathologic - Test set size: {}'.format(N_test))\n",
        "\n",
        "print('porcentaje test: {}'.format(N_test/(N_test+N)))"
      ],
      "metadata": {
        "colab": {
          "base_uri": "https://localhost:8080/"
        },
        "id": "ND62ycXjLLST",
        "outputId": "5c4fdfb8-44d4-4911-825a-370e1fae6b75"
      },
      "execution_count": 6,
      "outputs": [
        {
          "output_type": "stream",
          "name": "stdout",
          "text": [
            "histopathologic - Training + Val sets size: 220025\n",
            "histopathologic - Test set size: 57458\n",
            "porcentaje test: 0.20706854113585338\n"
          ]
        }
      ]
    },
    {
      "cell_type": "code",
      "source": [
        "print('porcentaje requerido para validation_set: {}'.format(0.1*(N_test+N)/N))"
      ],
      "metadata": {
        "colab": {
          "base_uri": "https://localhost:8080/"
        },
        "id": "5MmTa9VvBnzV",
        "outputId": "f8cf647c-7fa6-496d-9927-11716f7e530c"
      },
      "execution_count": 7,
      "outputs": [
        {
          "output_type": "stream",
          "name": "stdout",
          "text": [
            "porcentaje requerido para validation_set: 0.12611430519259176\n"
          ]
        }
      ]
    },
    {
      "cell_type": "code",
      "source": [
        "# y le pedimos al grupo de train el elemento 10\n",
        "path_completo = PATH+'train/'\n",
        "\n",
        "data_sample = os.listdir(path_completo)[10]\n",
        "print(data_sample)\n",
        "\n",
        "im = Image.open(path_completo+data_sample)\n",
        "print(im)\n",
        "#96*96*3 canales"
      ],
      "metadata": {
        "colab": {
          "base_uri": "https://localhost:8080/"
        },
        "id": "UW8Sk6k1evY_",
        "outputId": "19deb55e-59a4-43d2-8dff-2d83aeb6ea66"
      },
      "execution_count": 8,
      "outputs": [
        {
          "output_type": "stream",
          "name": "stdout",
          "text": [
            "99eb6172ca6b510edc1df5a2eba0641062d01205.tif\n",
            "<PIL.TiffImagePlugin.TiffImageFile image mode=RGB size=96x96 at 0x7EFCCF92C090>\n"
          ]
        }
      ]
    },
    {
      "cell_type": "code",
      "source": [
        "labels_df=pd.read_csv(PATH+'train_labels.csv')\n",
        "labels_df.head()"
      ],
      "metadata": {
        "id": "a5UsbBZbigTv",
        "colab": {
          "base_uri": "https://localhost:8080/",
          "height": 206
        },
        "outputId": "1f449353-e8b2-4876-a49f-05e5e61cc088"
      },
      "execution_count": 9,
      "outputs": [
        {
          "output_type": "execute_result",
          "data": {
            "text/plain": [
              "                                         id  label\n",
              "0  f38a6374c348f90b587e046aac6079959adf3835      0\n",
              "1  c18f2d887b7ae4f6742ee445113fa1aef383ed77      1\n",
              "2  755db6279dae599ebb4d39a9123cce439965282d      0\n",
              "3  bc3f0c64fb968ff4a8bd33af6971ecae77c75e08      0\n",
              "4  068aba587a4950175d04c680d38943fd488d6a9d      0"
            ],
            "text/html": [
              "\n",
              "  <div id=\"df-5f736441-5dfd-4550-bf91-746f5e696d85\">\n",
              "    <div class=\"colab-df-container\">\n",
              "      <div>\n",
              "<style scoped>\n",
              "    .dataframe tbody tr th:only-of-type {\n",
              "        vertical-align: middle;\n",
              "    }\n",
              "\n",
              "    .dataframe tbody tr th {\n",
              "        vertical-align: top;\n",
              "    }\n",
              "\n",
              "    .dataframe thead th {\n",
              "        text-align: right;\n",
              "    }\n",
              "</style>\n",
              "<table border=\"1\" class=\"dataframe\">\n",
              "  <thead>\n",
              "    <tr style=\"text-align: right;\">\n",
              "      <th></th>\n",
              "      <th>id</th>\n",
              "      <th>label</th>\n",
              "    </tr>\n",
              "  </thead>\n",
              "  <tbody>\n",
              "    <tr>\n",
              "      <th>0</th>\n",
              "      <td>f38a6374c348f90b587e046aac6079959adf3835</td>\n",
              "      <td>0</td>\n",
              "    </tr>\n",
              "    <tr>\n",
              "      <th>1</th>\n",
              "      <td>c18f2d887b7ae4f6742ee445113fa1aef383ed77</td>\n",
              "      <td>1</td>\n",
              "    </tr>\n",
              "    <tr>\n",
              "      <th>2</th>\n",
              "      <td>755db6279dae599ebb4d39a9123cce439965282d</td>\n",
              "      <td>0</td>\n",
              "    </tr>\n",
              "    <tr>\n",
              "      <th>3</th>\n",
              "      <td>bc3f0c64fb968ff4a8bd33af6971ecae77c75e08</td>\n",
              "      <td>0</td>\n",
              "    </tr>\n",
              "    <tr>\n",
              "      <th>4</th>\n",
              "      <td>068aba587a4950175d04c680d38943fd488d6a9d</td>\n",
              "      <td>0</td>\n",
              "    </tr>\n",
              "  </tbody>\n",
              "</table>\n",
              "</div>\n",
              "      <button class=\"colab-df-convert\" onclick=\"convertToInteractive('df-5f736441-5dfd-4550-bf91-746f5e696d85')\"\n",
              "              title=\"Convert this dataframe to an interactive table.\"\n",
              "              style=\"display:none;\">\n",
              "        \n",
              "  <svg xmlns=\"http://www.w3.org/2000/svg\" height=\"24px\"viewBox=\"0 0 24 24\"\n",
              "       width=\"24px\">\n",
              "    <path d=\"M0 0h24v24H0V0z\" fill=\"none\"/>\n",
              "    <path d=\"M18.56 5.44l.94 2.06.94-2.06 2.06-.94-2.06-.94-.94-2.06-.94 2.06-2.06.94zm-11 1L8.5 8.5l.94-2.06 2.06-.94-2.06-.94L8.5 2.5l-.94 2.06-2.06.94zm10 10l.94 2.06.94-2.06 2.06-.94-2.06-.94-.94-2.06-.94 2.06-2.06.94z\"/><path d=\"M17.41 7.96l-1.37-1.37c-.4-.4-.92-.59-1.43-.59-.52 0-1.04.2-1.43.59L10.3 9.45l-7.72 7.72c-.78.78-.78 2.05 0 2.83L4 21.41c.39.39.9.59 1.41.59.51 0 1.02-.2 1.41-.59l7.78-7.78 2.81-2.81c.8-.78.8-2.07 0-2.86zM5.41 20L4 18.59l7.72-7.72 1.47 1.35L5.41 20z\"/>\n",
              "  </svg>\n",
              "      </button>\n",
              "      \n",
              "  <style>\n",
              "    .colab-df-container {\n",
              "      display:flex;\n",
              "      flex-wrap:wrap;\n",
              "      gap: 12px;\n",
              "    }\n",
              "\n",
              "    .colab-df-convert {\n",
              "      background-color: #E8F0FE;\n",
              "      border: none;\n",
              "      border-radius: 50%;\n",
              "      cursor: pointer;\n",
              "      display: none;\n",
              "      fill: #1967D2;\n",
              "      height: 32px;\n",
              "      padding: 0 0 0 0;\n",
              "      width: 32px;\n",
              "    }\n",
              "\n",
              "    .colab-df-convert:hover {\n",
              "      background-color: #E2EBFA;\n",
              "      box-shadow: 0px 1px 2px rgba(60, 64, 67, 0.3), 0px 1px 3px 1px rgba(60, 64, 67, 0.15);\n",
              "      fill: #174EA6;\n",
              "    }\n",
              "\n",
              "    [theme=dark] .colab-df-convert {\n",
              "      background-color: #3B4455;\n",
              "      fill: #D2E3FC;\n",
              "    }\n",
              "\n",
              "    [theme=dark] .colab-df-convert:hover {\n",
              "      background-color: #434B5C;\n",
              "      box-shadow: 0px 1px 3px 1px rgba(0, 0, 0, 0.15);\n",
              "      filter: drop-shadow(0px 1px 2px rgba(0, 0, 0, 0.3));\n",
              "      fill: #FFFFFF;\n",
              "    }\n",
              "  </style>\n",
              "\n",
              "      <script>\n",
              "        const buttonEl =\n",
              "          document.querySelector('#df-5f736441-5dfd-4550-bf91-746f5e696d85 button.colab-df-convert');\n",
              "        buttonEl.style.display =\n",
              "          google.colab.kernel.accessAllowed ? 'block' : 'none';\n",
              "\n",
              "        async function convertToInteractive(key) {\n",
              "          const element = document.querySelector('#df-5f736441-5dfd-4550-bf91-746f5e696d85');\n",
              "          const dataTable =\n",
              "            await google.colab.kernel.invokeFunction('convertToInteractive',\n",
              "                                                     [key], {});\n",
              "          if (!dataTable) return;\n",
              "\n",
              "          const docLinkHtml = 'Like what you see? Visit the ' +\n",
              "            '<a target=\"_blank\" href=https://colab.research.google.com/notebooks/data_table.ipynb>data table notebook</a>'\n",
              "            + ' to learn more about interactive tables.';\n",
              "          element.innerHTML = '';\n",
              "          dataTable['output_type'] = 'display_data';\n",
              "          await google.colab.output.renderOutput(dataTable, element);\n",
              "          const docLink = document.createElement('div');\n",
              "          docLink.innerHTML = docLinkHtml;\n",
              "          element.appendChild(docLink);\n",
              "        }\n",
              "      </script>\n",
              "    </div>\n",
              "  </div>\n",
              "  "
            ]
          },
          "metadata": {},
          "execution_count": 9
        }
      ]
    },
    {
      "cell_type": "code",
      "source": [
        "test_set=pd.read_csv(PATH+'sample_submission.csv')\n",
        "test_set.head()"
      ],
      "metadata": {
        "colab": {
          "base_uri": "https://localhost:8080/",
          "height": 206
        },
        "id": "f_GonN4XEXzB",
        "outputId": "c6a0f3dd-ded5-480c-d67b-5ca9eaf01586"
      },
      "execution_count": 10,
      "outputs": [
        {
          "output_type": "execute_result",
          "data": {
            "text/plain": [
              "                                         id  label\n",
              "0  0b2ea2a822ad23fdb1b5dd26653da899fbd2c0d5      0\n",
              "1  95596b92e5066c5c52466c90b69ff089b39f2737      0\n",
              "2  248e6738860e2ebcf6258cdc1f32f299e0c76914      0\n",
              "3  2c35657e312966e9294eac6841726ff3a748febf      0\n",
              "4  145782eb7caa1c516acbe2eda34d9a3f31c41fd6      0"
            ],
            "text/html": [
              "\n",
              "  <div id=\"df-a1d60ac5-de0f-4ce0-96ac-edb28ecb3163\">\n",
              "    <div class=\"colab-df-container\">\n",
              "      <div>\n",
              "<style scoped>\n",
              "    .dataframe tbody tr th:only-of-type {\n",
              "        vertical-align: middle;\n",
              "    }\n",
              "\n",
              "    .dataframe tbody tr th {\n",
              "        vertical-align: top;\n",
              "    }\n",
              "\n",
              "    .dataframe thead th {\n",
              "        text-align: right;\n",
              "    }\n",
              "</style>\n",
              "<table border=\"1\" class=\"dataframe\">\n",
              "  <thead>\n",
              "    <tr style=\"text-align: right;\">\n",
              "      <th></th>\n",
              "      <th>id</th>\n",
              "      <th>label</th>\n",
              "    </tr>\n",
              "  </thead>\n",
              "  <tbody>\n",
              "    <tr>\n",
              "      <th>0</th>\n",
              "      <td>0b2ea2a822ad23fdb1b5dd26653da899fbd2c0d5</td>\n",
              "      <td>0</td>\n",
              "    </tr>\n",
              "    <tr>\n",
              "      <th>1</th>\n",
              "      <td>95596b92e5066c5c52466c90b69ff089b39f2737</td>\n",
              "      <td>0</td>\n",
              "    </tr>\n",
              "    <tr>\n",
              "      <th>2</th>\n",
              "      <td>248e6738860e2ebcf6258cdc1f32f299e0c76914</td>\n",
              "      <td>0</td>\n",
              "    </tr>\n",
              "    <tr>\n",
              "      <th>3</th>\n",
              "      <td>2c35657e312966e9294eac6841726ff3a748febf</td>\n",
              "      <td>0</td>\n",
              "    </tr>\n",
              "    <tr>\n",
              "      <th>4</th>\n",
              "      <td>145782eb7caa1c516acbe2eda34d9a3f31c41fd6</td>\n",
              "      <td>0</td>\n",
              "    </tr>\n",
              "  </tbody>\n",
              "</table>\n",
              "</div>\n",
              "      <button class=\"colab-df-convert\" onclick=\"convertToInteractive('df-a1d60ac5-de0f-4ce0-96ac-edb28ecb3163')\"\n",
              "              title=\"Convert this dataframe to an interactive table.\"\n",
              "              style=\"display:none;\">\n",
              "        \n",
              "  <svg xmlns=\"http://www.w3.org/2000/svg\" height=\"24px\"viewBox=\"0 0 24 24\"\n",
              "       width=\"24px\">\n",
              "    <path d=\"M0 0h24v24H0V0z\" fill=\"none\"/>\n",
              "    <path d=\"M18.56 5.44l.94 2.06.94-2.06 2.06-.94-2.06-.94-.94-2.06-.94 2.06-2.06.94zm-11 1L8.5 8.5l.94-2.06 2.06-.94-2.06-.94L8.5 2.5l-.94 2.06-2.06.94zm10 10l.94 2.06.94-2.06 2.06-.94-2.06-.94-.94-2.06-.94 2.06-2.06.94z\"/><path d=\"M17.41 7.96l-1.37-1.37c-.4-.4-.92-.59-1.43-.59-.52 0-1.04.2-1.43.59L10.3 9.45l-7.72 7.72c-.78.78-.78 2.05 0 2.83L4 21.41c.39.39.9.59 1.41.59.51 0 1.02-.2 1.41-.59l7.78-7.78 2.81-2.81c.8-.78.8-2.07 0-2.86zM5.41 20L4 18.59l7.72-7.72 1.47 1.35L5.41 20z\"/>\n",
              "  </svg>\n",
              "      </button>\n",
              "      \n",
              "  <style>\n",
              "    .colab-df-container {\n",
              "      display:flex;\n",
              "      flex-wrap:wrap;\n",
              "      gap: 12px;\n",
              "    }\n",
              "\n",
              "    .colab-df-convert {\n",
              "      background-color: #E8F0FE;\n",
              "      border: none;\n",
              "      border-radius: 50%;\n",
              "      cursor: pointer;\n",
              "      display: none;\n",
              "      fill: #1967D2;\n",
              "      height: 32px;\n",
              "      padding: 0 0 0 0;\n",
              "      width: 32px;\n",
              "    }\n",
              "\n",
              "    .colab-df-convert:hover {\n",
              "      background-color: #E2EBFA;\n",
              "      box-shadow: 0px 1px 2px rgba(60, 64, 67, 0.3), 0px 1px 3px 1px rgba(60, 64, 67, 0.15);\n",
              "      fill: #174EA6;\n",
              "    }\n",
              "\n",
              "    [theme=dark] .colab-df-convert {\n",
              "      background-color: #3B4455;\n",
              "      fill: #D2E3FC;\n",
              "    }\n",
              "\n",
              "    [theme=dark] .colab-df-convert:hover {\n",
              "      background-color: #434B5C;\n",
              "      box-shadow: 0px 1px 3px 1px rgba(0, 0, 0, 0.15);\n",
              "      filter: drop-shadow(0px 1px 2px rgba(0, 0, 0, 0.3));\n",
              "      fill: #FFFFFF;\n",
              "    }\n",
              "  </style>\n",
              "\n",
              "      <script>\n",
              "        const buttonEl =\n",
              "          document.querySelector('#df-a1d60ac5-de0f-4ce0-96ac-edb28ecb3163 button.colab-df-convert');\n",
              "        buttonEl.style.display =\n",
              "          google.colab.kernel.accessAllowed ? 'block' : 'none';\n",
              "\n",
              "        async function convertToInteractive(key) {\n",
              "          const element = document.querySelector('#df-a1d60ac5-de0f-4ce0-96ac-edb28ecb3163');\n",
              "          const dataTable =\n",
              "            await google.colab.kernel.invokeFunction('convertToInteractive',\n",
              "                                                     [key], {});\n",
              "          if (!dataTable) return;\n",
              "\n",
              "          const docLinkHtml = 'Like what you see? Visit the ' +\n",
              "            '<a target=\"_blank\" href=https://colab.research.google.com/notebooks/data_table.ipynb>data table notebook</a>'\n",
              "            + ' to learn more about interactive tables.';\n",
              "          element.innerHTML = '';\n",
              "          dataTable['output_type'] = 'display_data';\n",
              "          await google.colab.output.renderOutput(dataTable, element);\n",
              "          const docLink = document.createElement('div');\n",
              "          docLink.innerHTML = docLinkHtml;\n",
              "          element.appendChild(docLink);\n",
              "        }\n",
              "      </script>\n",
              "    </div>\n",
              "  </div>\n",
              "  "
            ]
          },
          "metadata": {},
          "execution_count": 10
        }
      ]
    },
    {
      "cell_type": "markdown",
      "source": [
        "visualizo una de las imágenes"
      ],
      "metadata": {
        "id": "LychlgephZ4G"
      }
    },
    {
      "cell_type": "code",
      "source": [
        "# mostramos la imagen\n",
        "plt.imshow(im)\n",
        "plt.show()\n",
        "\n",
        "# e imprimimos la etiqueta\n",
        "print('Label: {}'.format(labels_df.label.unique()))"
      ],
      "metadata": {
        "colab": {
          "base_uri": "https://localhost:8080/",
          "height": 285
        },
        "id": "2oP0uXtUhNjw",
        "outputId": "e779b7c1-0bb9-4fa4-c57b-e8330a2cd120"
      },
      "execution_count": 11,
      "outputs": [
        {
          "output_type": "display_data",
          "data": {
            "text/plain": [
              "<Figure size 432x288 with 1 Axes>"
            ],
            "image/png": "[encoded data removed]"
          },
          "metadata": {
            "needs_background": "light"
          }
        },
        {
          "output_type": "stream",
          "name": "stdout",
          "text": [
            "Label: [0 1]\n"
          ]
        }
      ]
    },
    {
      "cell_type": "code",
      "source": [
        "%matplotlib inline\n",
        "labels_df['label'].hist();\n",
        "print(labels_df['label'].value_counts()) #normal malignos"
      ],
      "metadata": {
        "colab": {
          "base_uri": "https://localhost:8080/",
          "height": 317
        },
        "id": "zxHlUG-vlDPl",
        "outputId": "e1139be3-d394-40ce-e9c7-029807b2cab1"
      },
      "execution_count": 12,
      "outputs": [
        {
          "output_type": "stream",
          "name": "stdout",
          "text": [
            "0    130908\n",
            "1     89117\n",
            "Name: label, dtype: int64\n"
          ]
        },
        {
          "output_type": "display_data",
          "data": {
            "text/plain": [
              "<Figure size 432x288 with 1 Axes>"
            ],
            "image/png": "[encoded data removed]"
          },
          "metadata": {
            "needs_background": "light"
          }
        }
      ]
    },
    {
      "cell_type": "markdown",
      "source": [
        "rango en las imágenes"
      ],
      "metadata": {
        "id": "KMjz1EfktRRd"
      }
    },
    {
      "cell_type": "code",
      "source": [
        "# ahora la pasamos a tensor usando ToTensor()\n",
        "to_tensor = transforms.ToTensor()\n",
        "img_t = to_tensor(im)\n",
        "\n",
        "# imprimimos el rango de intensidades original de la imagen\n",
        "print('Intensity range: [{}, {}]'.format(np.min(im), np.max(im)))\n",
        "\n",
        "print('New intensity range: [{}, {}]'.format(torch.min(img_t), torch.max(img_t)))\n",
        "\n",
        "print('')\n",
        "\n",
        "# imprimimos los tamaños antes de pasar a tensor\n",
        "print(np.asarray(im).shape)\n",
        "# y ahora\n",
        "print(img_t.shape)"
      ],
      "metadata": {
        "colab": {
          "base_uri": "https://localhost:8080/"
        },
        "id": "Fqi7W51Ns9OR",
        "outputId": "aaabe7cf-47e1-40cb-fff8-3d19881dc517"
      },
      "execution_count": 13,
      "outputs": [
        {
          "output_type": "stream",
          "name": "stdout",
          "text": [
            "Intensity range: [2, 255]\n",
            "New intensity range: [0.007843137718737125, 1.0]\n",
            "\n",
            "(96, 96, 3)\n",
            "torch.Size([3, 96, 96])\n"
          ]
        }
      ]
    },
    {
      "cell_type": "code",
      "source": [
        "#img_t[:,:,2] #blue"
      ],
      "metadata": {
        "id": "tjih-A8KuxmV"
      },
      "execution_count": null,
      "outputs": []
    },
    {
      "cell_type": "code",
      "source": [
        "im = Image.open(PATH+'train/'+labels_df.id[0]+'.tif')\n",
        "print(im)"
      ],
      "metadata": {
        "colab": {
          "base_uri": "https://localhost:8080/"
        },
        "id": "xhY832Rcv3oh",
        "outputId": "f022bfca-6c9e-47f0-aadd-e285aafbdab2"
      },
      "execution_count": 14,
      "outputs": [
        {
          "output_type": "stream",
          "name": "stdout",
          "text": [
            "<PIL.TiffImagePlugin.TiffImageFile image mode=RGB size=96x96 at 0x7EFCD3DCDF50>\n"
          ]
        }
      ]
    },
    {
      "cell_type": "markdown",
      "source": [
        "## 2- Train - test\n",
        "\n",
        "generar partición en train (70%), validación (10%) y test (20%)\n",
        "\n",
        "**Nota**: en el conjunto de test ya hay un 20% de datos.\n",
        "así que sólo separo el de train en train y val (val es 12.6%)"
      ],
      "metadata": {
        "id": "_OXfL3BntxXD"
      }
    },
    {
      "cell_type": "code",
      "source": [
        "from sklearn.model_selection import train_test_split\n",
        "\n",
        "X=labels_df\n",
        "y=labels_df.label\n",
        "train_set, valid_set= train_test_split(X, test_size=0.126, random_state=42,stratify=y)"
      ],
      "metadata": {
        "id": "Ic_k4T3nBwh5"
      },
      "execution_count": 15,
      "outputs": []
    },
    {
      "cell_type": "markdown",
      "source": [
        "Verificación de la proporción"
      ],
      "metadata": {
        "id": "GjOewoT-D4VC"
      }
    },
    {
      "cell_type": "code",
      "source": [
        "print(train_set.label.value_counts())\n",
        "print('proporcion:',77888/114413)\n",
        "N_train=len(train_set.label)"
      ],
      "metadata": {
        "colab": {
          "base_uri": "https://localhost:8080/"
        },
        "id": "VxmtqBygDJeU",
        "outputId": "a52612be-7854-482c-c003-9cc8ca18e1ac"
      },
      "execution_count": 16,
      "outputs": [
        {
          "output_type": "stream",
          "name": "stdout",
          "text": [
            "0    114413\n",
            "1     77888\n",
            "Name: label, dtype: int64\n",
            "proporcion: 0.6807618015435309\n"
          ]
        }
      ]
    },
    {
      "cell_type": "code",
      "source": [
        "print(valid_set.label.value_counts())\n",
        "print('proporcion:',11443/16495)\n",
        "print('porcentaje del total:',(16495+11229)/(N+N_test))\n",
        "N_val=len(valid_set.label)"
      ],
      "metadata": {
        "colab": {
          "base_uri": "https://localhost:8080/"
        },
        "id": "rKJoIzwwD-Ym",
        "outputId": "be416f24-af7e-4bc3-9aa8-6791f0406a26"
      },
      "execution_count": 17,
      "outputs": [
        {
          "output_type": "stream",
          "name": "stdout",
          "text": [
            "0    16495\n",
            "1    11229\n",
            "Name: label, dtype: int64\n",
            "proporcion: 0.6937253713246438\n",
            "porcentaje del total: 0.09991242706760414\n"
          ]
        }
      ]
    },
    {
      "cell_type": "code",
      "source": [
        "print('id:',train_set.id[0], 'label:',train_set.label[0])"
      ],
      "metadata": {
        "colab": {
          "base_uri": "https://localhost:8080/"
        },
        "id": "McPqDw98EV2y",
        "outputId": "092e8356-2de3-4bb1-f283-90f5c90377a1"
      },
      "execution_count": 18,
      "outputs": [
        {
          "output_type": "stream",
          "name": "stdout",
          "text": [
            "id: f38a6374c348f90b587e046aac6079959adf3835 label: 0\n"
          ]
        }
      ]
    },
    {
      "cell_type": "code",
      "source": [
        "# ejemplo\n",
        "#training_set = [tuple(x) for x in train_set.to_numpy()]\n",
        "#print(training_set[0])\n",
        "\n",
        "#validation_set = [tuple(x) for x in valid_set.to_numpy()]\n",
        "#print(validation_set[0])"
      ],
      "metadata": {
        "id": "brSq7xpXOoNo"
      },
      "execution_count": null,
      "outputs": []
    },
    {
      "cell_type": "markdown",
      "source": [
        "### Clase dataset"
      ],
      "metadata": {
        "id": "0H181dRmFj2q"
      }
    },
    {
      "cell_type": "code",
      "source": [
        "#fijar la semilla\n",
        "torch.manual_seed(42)"
      ],
      "metadata": {
        "colab": {
          "base_uri": "https://localhost:8080/"
        },
        "id": "SPbIp1ypF4Eh",
        "outputId": "430738fb-3af5-4a08-d2b4-30a9f8ae0938"
      },
      "execution_count": 19,
      "outputs": [
        {
          "output_type": "execute_result",
          "data": {
            "text/plain": [
              "<torch._C.Generator at 0x7efce38e92d0>"
            ]
          },
          "metadata": {},
          "execution_count": 19
        }
      ]
    },
    {
      "cell_type": "code",
      "source": [
        "#clase dataset\n",
        "\n",
        "class histopDataset(torch.utils.data.dataset.Dataset):\n",
        "  '''\n",
        "  Clase para el dataset de histopatologic cancer dataset\n",
        "  '''\n",
        "\n",
        "  def __init__(self, partition):  \n",
        "    '''\n",
        "    Constructor de la clase. Podemos pasarle todos los parámetros que querramos,\n",
        "    en este caso usamos:\n",
        "    - partition: si es 'training', 'validation' o 'test'\n",
        "    '''\n",
        "\n",
        "    # usamos siempre el constructor de la clase madre primero, por las dudas que\n",
        "    # inicialice cosas que nosotros no sepamos\n",
        "    super(histopDataset, self).__init__()\n",
        "\n",
        "    # hacemos un chequeo de que no entre cualquier cosa en vez de partition\n",
        "    assert partition in ['training', 'validation','test'], 'partition has to be training or validation, not {}'.format(partition)\n",
        "    \n",
        "    # armamos las transformaciones que tenemos que aplicarle,\n",
        "    # se usan las propuestas en pag 52, Avendi\n",
        "      \n",
        "    if (partition=='training'):\n",
        "      transformations = transforms.Compose([#transforms.RandomHorizontalFlip(p=.5),\n",
        "                                          #transforms.RandomVerticalFlip(p=.5),\n",
        "                                          #transforms.RandomRotation(45),\n",
        "                                          #transforms.RandomResizedCrop(96,scale=(.8,1.0),ratio=(1.0,1.0)),\n",
        "                                          transforms.ToTensor()])               \n",
        "    else: #para validacion y test\n",
        "      transformations = transforms.Compose([transforms.ToTensor()])                                 \n",
        "\n",
        "\n",
        "    # hacemos una lista de nombres para las clases\n",
        "    self.class_names = ['normal', 'maligno']\n",
        "\n",
        "    # filtramos los elementos que no nos sirven y creamos un atributo data donde\n",
        "    # vamos a poner todos los datos que necesitamos\n",
        "    if (partition=='training'):\n",
        "      self.data = [tuple(x) for x in train_set.to_numpy()]\n",
        "      self.path_completo=PATH+'train/'\n",
        "\n",
        "    elif (partition=='validation'):\n",
        "      self.data = [tuple(x) for x in valid_set.to_numpy()]\n",
        "      self.path_completo=PATH+'train/'\n",
        "\n",
        "    else:\n",
        "      self.data = [tuple(x) for x in test_set.to_numpy()]\n",
        "      self.path_completo=PATH+'test/'\n",
        "\n",
        "    self.transform = transformations\n",
        "\n",
        "  def __len__(self):\n",
        "    '''\n",
        "    Método que te devuelve la cantidad de elementos del dataset\n",
        "    '''\n",
        "    # simplemente devolvemos la longitud de la lista\n",
        "    return len(self.data)\n",
        "  \n",
        "\n",
        "  def __getitem__(self, index):\n",
        "    '''\n",
        "    Método que te devuelve el elemento index del dataset\n",
        "    '''\n",
        "    # leemos la imagen y su etiqueta asociada\n",
        "    name, label = self.data[index]\n",
        "    img=Image.open(self.path_completo+name+'.tif')\n",
        "    img = self.transform(img)\n",
        "    # convertimos la etiqueta en un tensor de tipo long\n",
        "    tensor_label = torch.zeros(1)\n",
        "    tensor_label[0] = label\n",
        "    label = tensor_label.long()\n",
        "    # retornamos el par\n",
        "    return (img, label)"
      ],
      "metadata": {
        "id": "7UHHxadwJYPo"
      },
      "execution_count": 54,
      "outputs": []
    },
    {
      "cell_type": "markdown",
      "source": [
        "### Modelos"
      ],
      "metadata": {
        "id": "i55ixtApRRDI"
      }
    },
    {
      "cell_type": "code",
      "source": [
        "print('dimension del vector de entrada para la fully conected:',3* 96* 96)"
      ],
      "metadata": {
        "colab": {
          "base_uri": "https://localhost:8080/"
        },
        "id": "iwE1D7IDRpfn",
        "outputId": "534dd2b2-edd3-428f-f5a7-41f2156ab90b"
      },
      "execution_count": 21,
      "outputs": [
        {
          "output_type": "stream",
          "name": "stdout",
          "text": [
            "dimension del vector de entrada para la fully conected: 27648\n"
          ]
        }
      ]
    },
    {
      "cell_type": "code",
      "source": [
        "class histopFullyConnectedNN(nn.Module):\n",
        "  '''\n",
        "  Clase que implementa una arquitectura fully connected de 2 capas para\n",
        "  resolver el problema de clasificar imagenes\n",
        "  '''\n",
        "\n",
        "  def __init__(self):\n",
        "    '''\n",
        "    Constructor: crea la arquitectura\n",
        "    '''\n",
        "\n",
        "    # siempre llamamos al constructor de la clase madre primero\n",
        "    super(histopFullyConnectedNN, self).__init__()\n",
        "    # número de salidas del modelo (probabilidades de ser normal o maligno)\n",
        "    n_out = 2\n",
        "\n",
        "    self.model = nn.Sequential(\n",
        "        # una capa fully connected\n",
        "        nn.Linear(27648,  # cantidad de features en la entrada: 96 x 96 x 3 colores\n",
        "                  512),     # tamaño de la hidden layer\n",
        "        nn.ReLU(), # función de activación\n",
        "        \n",
        "        nn.Linear(512, # cantidad de features en la entrada: 96 x 96 x 3 colores\n",
        "                  128),  # tamaño de la hidden layer\n",
        "        nn.ReLU(), \n",
        "        \n",
        "        # otra capa fully connected\n",
        "        nn.Linear(128, # tamaño de la hidden layer\n",
        "                  n_out) # cantidad de clases en la salida,\n",
        "        #nn.Softmax(dim=1) #no se usa mas la softmax ya que viene dentro de final activation\n",
        "    )\n",
        "    # agregamos la función de activación como un atributo\n",
        "    self.final_activation = nn.Softmax(dim=1)\n",
        "\n",
        "  def forward(self, inputs):\n",
        "    '''\n",
        "    Método que implementa el forward pass\n",
        "    '''\n",
        "\n",
        "    return self.model(inputs)\n",
        "\n",
        "  def predict(self, inputs):\n",
        "    '''\n",
        "    Método que usaremos de aquí en más cuando queremos predecir resultados\n",
        "    '''\n",
        "    # devolvemos el resultado de llamar al modelo y aplicarle la función de activación\n",
        "    return self.final_activation(self.model(inputs))"
      ],
      "metadata": {
        "id": "uWRUxmHRRTBB"
      },
      "execution_count": 22,
      "outputs": []
    },
    {
      "cell_type": "code",
      "source": [
        "48 * 48 * 8"
      ],
      "metadata": {
        "colab": {
          "base_uri": "https://localhost:8080/"
        },
        "id": "dgO1mT8_hTL3",
        "outputId": "b31ef956-199f-457c-865b-c371d4ac9cec"
      },
      "execution_count": null,
      "outputs": [
        {
          "output_type": "execute_result",
          "data": {
            "text/plain": [
              "18432"
            ]
          },
          "metadata": {},
          "execution_count": 39
        }
      ]
    },
    {
      "cell_type": "code",
      "source": [
        "(((96/2)/2)/2)/2"
      ],
      "metadata": {
        "colab": {
          "base_uri": "https://localhost:8080/"
        },
        "id": "6t3k-XKflAHi",
        "outputId": "586a0340-d639-48e2-ae8d-7239d97bc409"
      },
      "execution_count": null,
      "outputs": [
        {
          "output_type": "execute_result",
          "data": {
            "text/plain": [
              "6.0"
            ]
          },
          "metadata": {},
          "execution_count": 26
        }
      ]
    },
    {
      "cell_type": "code",
      "source": [
        "6*6*32"
      ],
      "metadata": {
        "colab": {
          "base_uri": "https://localhost:8080/"
        },
        "id": "_FY3xU8qhXx5",
        "outputId": "8e532549-3ffc-4d57-e4de-e25168e93acb"
      },
      "execution_count": null,
      "outputs": [
        {
          "output_type": "execute_result",
          "data": {
            "text/plain": [
              "1152"
            ]
          },
          "metadata": {},
          "execution_count": 28
        }
      ]
    },
    {
      "cell_type": "code",
      "source": [
        "import torch.nn.functional as F\n",
        "\n",
        "class histopCNN(nn.Module):\n",
        "  '''\n",
        "  red neuronal convolucional\n",
        "  '''\n",
        "\n",
        "  def __init__(self):\n",
        "    '''\n",
        "    Constructor de la clase\n",
        "    '''\n",
        "    super().__init__()\n",
        "\n",
        "    # vamos a plantear un modelo con 4 capas convolucionales, una que produce\n",
        "    # 16 activations maps\n",
        "    self.conv1 = nn.Conv2d(3, 8, kernel_size=3, padding=1,bias=False)\n",
        "    self.batch_norm_conv1 = nn.BatchNorm2d(num_features=8)\n",
        "\n",
        "    self.conv2 = nn.Conv2d(8, 16, kernel_size=3, padding=1,bias=False)\n",
        "    self.batch_norm_conv2 = nn.BatchNorm2d(num_features=16)\n",
        "    \n",
        "    self.conv3 = nn.Conv2d(16, 32, kernel_size=3, padding=1,bias=False)\n",
        "    self.batch_norm_conv3 = nn.BatchNorm2d(num_features=32)\n",
        "\n",
        "\n",
        "    self.conv4 = nn.Conv2d(32, 32, kernel_size=3, padding=1,bias=False)\n",
        "    self.batch_norm_conv4 = nn.BatchNorm2d(num_features=32)\n",
        "\n",
        "\n",
        "    # las imágenes de 96 x 96 x 3 bajarán de tamaño 2 veces cada vez usando maxpooling de 2x2,\n",
        "    # llegando a un tamaño de 8x8 x 64 activation maps.\n",
        "\n",
        "    # con eso alimentamos la capa fully connected, que va a generarnos 64 features\n",
        "    # combinando esas que generamos antes\n",
        "    self.fc1 = nn.Linear(1152, 100)\n",
        "    self.batch_norm_fc1 = nn.BatchNorm1d(num_features=100)\n",
        "    # y de esas 64 features generaremos 2 scores\n",
        "    self.fc2 = nn.Linear(100, 2)\n",
        "    # que pasaremos por la capa softmax para obtener probabilidades\n",
        "    self.final_activation = nn.Softmax(dim=1)\n",
        "\n",
        "  \n",
        "  def forward(self, x):\n",
        "    '''\n",
        "    Método que implementa el forward pass\n",
        "    '''\n",
        "\n",
        "    # aplicamos la convolución, sobre ella la función de activación, y después\n",
        "    # el maxpooling con un kernel_size de 2x2   \n",
        "\n",
        "    out = F.max_pool2d(torch.relu(self.batch_norm_conv1(self.conv1(x))),2)\n",
        "    # a esa salida la pasamos por la segunda convolución, otra función de activación,\n",
        "    # y nuevamente el maxpooling con kernel de 2x2\n",
        "    out = F.max_pool2d(torch.relu(self.batch_norm_conv2(self.conv2(out))), 2)\n",
        "    # ahora convertimos el activamos map en un vector\n",
        "    out = F.max_pool2d(torch.relu(self.batch_norm_conv3(self.conv3(out))), 2)\n",
        "\n",
        "    out = F.max_pool2d(torch.relu(self.batch_norm_conv4(self.conv4(out))), 2)\n",
        "    \n",
        "    out = out.view(-1, 6 * 6 * 32)\n",
        "    # que pasamos por la primera capa fully connected y por la función de activación\n",
        "    out = torch.relu(self.batch_norm_fc1(self.fc1(out)))\n",
        "    # y después por la última capa\n",
        "    out = self.fc2(out)\n",
        "    return out\n",
        "\n",
        "  \n",
        "  def predict(self, inputs):\n",
        "    '''\n",
        "    Método que usaremos de aquí en más cuando queremos predecir resultados\n",
        "    '''\n",
        "    # devolvemos el resultado de llamar al modelo y aplicarle la función de activación\n",
        "    return self.final_activation(self.__call__(inputs))"
      ],
      "metadata": {
        "id": "zuEJhQNgeYy9"
      },
      "execution_count": 67,
      "outputs": []
    },
    {
      "cell_type": "markdown",
      "source": [
        "## 3 -Entrenamiento"
      ],
      "metadata": {
        "id": "xtDfuKrdUbYT"
      }
    },
    {
      "cell_type": "code",
      "source": [
        "histop_training_set=histopDataset('training')\n",
        "training_loader = DataLoader(histop_training_set, batch_size=64, shuffle=True)"
      ],
      "metadata": {
        "id": "inOXshOYZ_sc"
      },
      "execution_count": 55,
      "outputs": []
    },
    {
      "cell_type": "code",
      "source": [
        "histop_validation_set=histopDataset('validation')\n",
        "validation_loader = DataLoader(histop_validation_set, batch_size=64, shuffle=False)"
      ],
      "metadata": {
        "id": "s8etIHGxadKy"
      },
      "execution_count": 56,
      "outputs": []
    },
    {
      "cell_type": "code",
      "source": [
        "histop_test_set=histopDataset('test')\n",
        "test_loader = DataLoader(histop_test_set, batch_size=64, shuffle=False)"
      ],
      "metadata": {
        "id": "5rPmhxNHHF3q"
      },
      "execution_count": 57,
      "outputs": []
    },
    {
      "cell_type": "code",
      "source": [
        "#ejemplo de train_dataloader\n",
        "#for x, y in test_loader:\n",
        "  #print(x)\n",
        "  #print(y.shape)\n",
        "#  break"
      ],
      "metadata": {
        "id": "qSR82lklk2uo"
      },
      "execution_count": null,
      "outputs": []
    },
    {
      "cell_type": "markdown",
      "source": [
        "### función de entrenamiento"
      ],
      "metadata": {
        "id": "DPcj8NiJlZ49"
      }
    },
    {
      "cell_type": "code",
      "source": [
        "def training_loop(n_epochs, optimizer, model, loss_fn, train_loader, validation_loader, device, is_fully_connected=False):\n",
        "\n",
        "  # inicializamos una lista de valores de loss por época\n",
        "  training_loss_per_epoch = []\n",
        "  validation_loss_per_epoch = []\n",
        "  # e igual del accuracy\n",
        "  training_accuracy_per_epoch = []\n",
        "  validation_accuracy_per_epoch = []\n",
        "\n",
        "  # iteramos por cada época\n",
        "  for epoch in range(1, n_epochs + 1):\n",
        "    \n",
        "    # -----------------------------\n",
        "    #          TRAINING\n",
        "    # -----------------------------\n",
        "\n",
        "    # inicializamos el valor de la loss en 0\n",
        "    loss_train = 0.0\n",
        "    # y la cantidad de valores totales y correctos (para calcular accuracy)\n",
        "    total = 0\n",
        "    correct = 0\n",
        "    model.train()\n",
        "    # for cada batch en nuestros datos de entrenamiento\n",
        "    for imgs, labels in train_loader:\n",
        "\n",
        "      # si la red es fully connected, acomodamos las imágenes al formato de entrada de la red\n",
        "      if is_fully_connected:\n",
        "        batch_size = imgs.shape[0]\n",
        "        imgs = imgs.view(batch_size, -1)\n",
        "\n",
        "      # pasamos imágenes y etiquetas a GPU\n",
        "      imgs = imgs.to(device=device)\n",
        "      labels = torch.squeeze(labels)\n",
        "      labels = labels.to(device=device)\n",
        "      # hacemos un forward pass\n",
        "      outputs = model(imgs)\n",
        "      \n",
        "      # evaluamos la loss\n",
        "      loss = loss_fn(outputs, labels)\n",
        "      # limpiamos los gradientes anteriores\n",
        "      optimizer.zero_grad()\n",
        "      # calculamos los gradientes con backpropagation\n",
        "      loss.backward()\n",
        "      # actualizamos el optimizador\n",
        "      optimizer.step()\n",
        "      # y vamos sumando los valores de la loss\n",
        "      loss_train += loss.item()\n",
        "\n",
        "      # también podemos calcular el accuracy sobre datos de entrenamiento:\n",
        "      # primero tenemos que estimar las etiquetas\n",
        "      _, predicted = torch.max(model.final_activation(outputs), dim=1)\n",
        "      # y después calculamos total de muestras y correctas\n",
        "      total += labels.shape[0]\n",
        "      correct += int((predicted == labels).sum())\n",
        "\n",
        "    # calculamos el promedio de la loss por época\n",
        "    training_loss_per_epoch.append(loss_train / len(train_loader))\n",
        "    # y el valor de accuracy\n",
        "    training_accuracy_per_epoch.append(correct / total)\n",
        "\n",
        "    # -----------------------------\n",
        "    #         VALIDATION\n",
        "    # -----------------------------\n",
        "\n",
        "    # inicializamos el valor de la loss en 0\n",
        "    loss_val = 0.0\n",
        "    # y la cantidad de valores totales y correctos (para calcular accuracy)\n",
        "    total = 0\n",
        "    correct = 0\n",
        "    model.eval()\n",
        "\n",
        "    # como iteramos sobre los datos de validación, no calculamos gradientes\n",
        "    with torch.no_grad():\n",
        "      \n",
        "      # for cada batch en nuestros datos de validación\n",
        "      for imgs, labels in validation_loader:\n",
        "\n",
        "        # si la red es fully connected, acomodamos las imágenes al formato de entrada de la red\n",
        "        if is_fully_connected:\n",
        "          batch_size = imgs.shape[0]\n",
        "          imgs = imgs.view(batch_size, -1)\n",
        "\n",
        "\n",
        "        # pasamos imágenes y etiquetas a GPU\n",
        "        imgs = imgs.to(device=device)\n",
        "        labels = torch.squeeze(labels)\n",
        "        labels = labels.to(device=device)\n",
        "        # hacemos un forward pass\n",
        "        outputs = model(imgs)\n",
        "        \n",
        "        # evaluamos la loss\n",
        "        loss = loss_fn(outputs, labels)\n",
        "        # y vamos sumando sus valores\n",
        "        loss_val += loss.item()\n",
        "\n",
        "        # estimamos las etiquetas\n",
        "        _, predicted = torch.max(model.final_activation(outputs), dim=1)\n",
        "        # y calculamos total de muestras y correctas\n",
        "        total += labels.shape[0]\n",
        "        correct += int((predicted == labels).sum())\n",
        "\n",
        "    # calculamos el promedio de la loss por época\n",
        "    validation_loss_per_epoch.append(loss_val / len(validation_loader))\n",
        "    # y el valor de accuracy\n",
        "    validation_accuracy_per_epoch.append(correct / total)\n",
        "\n",
        "    # -----------------------------\n",
        "    #    IMPRIMIMOS RESULTADOS\n",
        "    # -----------------------------\n",
        "\n",
        "    # cada 10 épocas, mostramos cuánto tardó la época y qué valor obtuvimos\n",
        "    if epoch == 1 or epoch % 10 == 0:\n",
        "      print('Epoch {}:'.format(epoch))\n",
        "      print(' ---> Loss: Training {:.4f} - Validation {:.4f}'.format(training_loss_per_epoch[-1], validation_loss_per_epoch[-1]))\n",
        "      print(' ---> Accuracy: Training {:.4f} - Validation {:.4f}'.format(training_accuracy_per_epoch[-1], validation_accuracy_per_epoch[-1]))\n",
        "      \n",
        "  # devolvemos los resultados\n",
        "  return model, training_loss_per_epoch, validation_loss_per_epoch, training_accuracy_per_epoch, validation_accuracy_per_epoch\n",
        "\n",
        "def get_num_parameters(model):\n",
        "  '''\n",
        "  Nos devuelve una lista con la cantidad de parámetros entrenables de un modelo\n",
        "  '''\n",
        "  # recuperamos todos los parámetros entrenables de la red\n",
        "  numel_list = [p.numel()\n",
        "                for p in model.parameters()\n",
        "                if p.requires_grad == True]\n",
        "\n",
        "  return numel_list"
      ],
      "metadata": {
        "id": "W-dyKre2dbnL"
      },
      "execution_count": 58,
      "outputs": []
    },
    {
      "cell_type": "markdown",
      "source": [
        "Cargo el modelo"
      ],
      "metadata": {
        "id": "wyA50qRVNG6Y"
      }
    },
    {
      "cell_type": "code",
      "source": [
        "# mejor uso gpu\n",
        "use_gpu = True\n",
        "# elegimos si usamos cuda o cpu\n",
        "if use_gpu:\n",
        "  device = torch.device('cuda')\n",
        "else:\n",
        "  device = torch.device('cpu')\n",
        "\n",
        "# creamos una instancia del modelo\n",
        "#fc_model = histopFullyConncted()\n",
        "\n",
        "# creamos la loss function\n",
        "loss_fn = nn.CrossEntropyLoss()\n",
        "\n",
        "# inicializamos un valor de learning rate\n",
        "learning_rate = 1e-1\n",
        "\n",
        "cnn_model = histopCNN()\n",
        "\n",
        "# creamos una instancia de un optimizador (por ejemplo, SGD),\n",
        "# pasándole los parámetros de nuestro modelo y la learning rate que queremos usar\n",
        "optimizer = optim.SGD(cnn_model.parameters(), lr=learning_rate)\n",
        "\n",
        "# determinamos el número de épocas por el que queremos entrenar\n",
        "n_epochs = 20\n",
        "\n",
        "\n",
        "\n",
        "\n",
        "# pedimos los parámetros del modelo que venimos usando antes\n",
        "numel_list = get_num_parameters(cnn_model)\n",
        "# imprimimos el número total de capas\n",
        "sum(numel_list), numel_list\n",
        "\n",
        "#fc_model, per_epoch_training_loss_values, per_epoch_validation_loss_values, per_epoch_validation_accuracy_values=entrenamiento(fc_model,n_epochs, learning_rate, optimizer, training_loader, validation_loader,loss_fn)"
      ],
      "metadata": {
        "colab": {
          "base_uri": "https://localhost:8080/"
        },
        "id": "_a0SjQ4lauHD",
        "outputId": "77ca1cf9-be6d-4655-c1f3-2802fe7d5164"
      },
      "execution_count": 68,
      "outputs": [
        {
          "output_type": "execute_result",
          "data": {
            "text/plain": [
              "(131070,\n",
              " [216,\n",
              "  8,\n",
              "  8,\n",
              "  1152,\n",
              "  16,\n",
              "  16,\n",
              "  4608,\n",
              "  32,\n",
              "  32,\n",
              "  9216,\n",
              "  32,\n",
              "  32,\n",
              "  115200,\n",
              "  100,\n",
              "  100,\n",
              "  100,\n",
              "  200,\n",
              "  2])"
            ]
          },
          "metadata": {},
          "execution_count": 68
        }
      ]
    },
    {
      "cell_type": "markdown",
      "source": [
        "entreno"
      ],
      "metadata": {
        "id": "RSalwhP1ADKg"
      }
    },
    {
      "cell_type": "code",
      "source": [
        "# creamos una instancia del modelo\n",
        "#cnn_model = histopFullyCNN()\n",
        "# movemos el modelo a la GPU\n",
        "cnn_model = cnn_model.to(device)\n",
        "# creamos una instancia de un optimizador (por ejemplo, SGD),\n",
        "# pasándole los parámetros de nuestro modelo y la learning rate que queremos usar (que la definimos arriba)\n",
        "is_fully_connected=False\n",
        "\n",
        "# entrenamos la red, indicando que es fully connected y usando los mismos parámetros que antes\n",
        "cnn_model, tr_loss, val_loss, tr_acc, val_acc = training_loop(n_epochs, optimizer, cnn_model, loss_fn, training_loader, validation_loader, device, is_fully_connected=False)"
      ],
      "metadata": {
        "colab": {
          "base_uri": "https://localhost:8080/"
        },
        "id": "mfUqKRc8fW_1",
        "outputId": "4b9c5a32-3ee6-4d53-93f4-4bba020bc17e"
      },
      "execution_count": 69,
      "outputs": [
        {
          "output_type": "stream",
          "name": "stdout",
          "text": [
            "Epoch 1:\n",
            " ---> Loss: Training 0.3331 - Validation 0.4223\n",
            " ---> Accuracy: Training 0.8566 - Validation 0.8175\n",
            "Epoch 10:\n",
            " ---> Loss: Training 0.1494 - Validation 0.2042\n",
            " ---> Accuracy: Training 0.9431 - Validation 0.9220\n",
            "Epoch 20:\n",
            " ---> Loss: Training 0.0924 - Validation 0.2245\n",
            " ---> Accuracy: Training 0.9649 - Validation 0.9291\n"
          ]
        }
      ]
    },
    {
      "cell_type": "code",
      "source": [
        "import matplotlib.pyplot as plt\n",
        "\n",
        "def plot_training_statistics(training_loss_per_epoch, validation_loss_per_epoch, training_accuracy_per_epoch, validation_accuracy_per_epoch):\n",
        "  '''\n",
        "  Plotea las estadísticas sobre datos de entrenamiento y validación\n",
        "  (loss function y valores de accuracy)\n",
        "  '''\n",
        "\n",
        "  # creamos plots para la loss y el accuracy\n",
        "  fig, axes = plt.subplots(1, 2)\n",
        "  # graficamos la evolución de la loss de entrenamiento y la de validación\n",
        "  axes[0].plot(training_loss_per_epoch, color='blue')\n",
        "  axes[0].plot(validation_loss_per_epoch, color='red')\n",
        "  axes[0].set_xlabel('Epochs')\n",
        "  axes[0].set_ylabel('Cross entropy loss')\n",
        "  axes[0].grid(True)\n",
        "  axes[0].legend(['Training set', 'Validation set'])\n",
        "  axes[0].set_title('Loss function')\n",
        "  # graficamos la evolución del accuracy en los datos de entrenamiento y validación\n",
        "  axes[1].plot(training_accuracy_per_epoch, color='blue')\n",
        "  axes[1].plot(validation_accuracy_per_epoch, color='red')\n",
        "  axes[1].set_xlabel('Epochs')\n",
        "  axes[1].set_ylabel('Accuracy')\n",
        "  axes[1].grid(True)\n",
        "  axes[1].legend(['Training set', 'Validation set'])\n",
        "  axes[1].set_title('Accuracy')\n",
        "  axes[1].set_ylim([0, 1.0])\n",
        "  fig.tight_layout(pad=3.0)"
      ],
      "metadata": {
        "id": "tlrUBb-8iPLQ"
      },
      "execution_count": 70,
      "outputs": []
    },
    {
      "cell_type": "code",
      "source": [
        "# ploteamos los resultados\n",
        "plot_training_statistics(tr_loss, val_loss, tr_acc, val_acc)"
      ],
      "metadata": {
        "colab": {
          "base_uri": "https://localhost:8080/",
          "height": 259
        },
        "id": "TPBerPYpgaFs",
        "outputId": "a1a0f965-59d5-4253-d2a0-55fd21bdec91"
      },
      "execution_count": 71,
      "outputs": [
        {
          "output_type": "display_data",
          "data": {
            "text/plain": [
              "<Figure size 432x288 with 2 Axes>"
            ],
            "image/png": "[encoded data removed]"
          },
          "metadata": {
            "needs_background": "light"
          }
        }
      ]
    },
    {
      "cell_type": "markdown",
      "source": [
        "El modelo alcanza una accuracy de 85% aprox. La loss función va descendiendo en los datos de entreanamiento y de validación. Si se agregan más épocas parece que sigue aún aprendiendo. No hay mucha diferencia entre train y test"
      ],
      "metadata": {
        "id": "KbehRZp4ZZtv"
      }
    },
    {
      "cell_type": "markdown",
      "source": [
        "4 capas de filtros. Con 8 , 16, 32 y 16 épocas alcanza un 0.85 similar en train y test y la loss viene bajando "
      ],
      "metadata": {
        "id": "JSaNEKsZqWsk"
      }
    },
    {
      "cell_type": "markdown",
      "source": [
        "## 4- Evaluación"
      ],
      "metadata": {
        "id": "t2YDrTU86fn8"
      }
    },
    {
      "cell_type": "markdown",
      "source": [
        "#### Análisis de validación"
      ],
      "metadata": {
        "id": "375I60Ska4Jw"
      }
    },
    {
      "cell_type": "code",
      "source": [
        "# inicializamos el tamaño de batch\n",
        "batch_size = 64\n",
        "\n",
        "# ponemos el modelo en modo evaluación\n",
        "#fc_model.eval()\n",
        "cnn_model.eval()\n",
        "is_fully_connected=False\n",
        "\n",
        "# inicializamos matrices y arreglos para guardar:\n",
        "# - probabilidades\n",
        "probabilities = np.zeros((N_val, 2))\n",
        "# - predicciones\n",
        "predictions = np.zeros(N_val)\n",
        "# - labels\n",
        "labels = np.zeros(N_val)\n",
        "\n",
        "# sin calcular el gradiente...\n",
        "with torch.no_grad():\n",
        "\n",
        "  # inicializamos un contador de muestras\n",
        "  num_samples = 0\n",
        "  # iteramos por cada batch de test\n",
        "  for i, (imgs, lbl) in enumerate(validation_loader):\n",
        "\n",
        "    # acomodamos las imágenes al formato de entrada de la red\n",
        "    num_outputs = imgs.shape[0]\n",
        "    if is_fully_connected:\n",
        "      imgs = imgs.view(num_outputs, -1)\n",
        "    # actualizamos la cantidad de muestras que vamos llevando\n",
        "    num_samples = num_samples + num_outputs\n",
        "\n",
        "    # obtenemos las predicciones\n",
        "    probs = cnn_model.predict(imgs.cuda())\n",
        "    # pasamos la salida a CPU\n",
        "    probs = probs.cpu()\n",
        "    # y recuperamos la clase más probable\n",
        "    _, predicted = torch.max(probs, dim=1)\n",
        "\n",
        "    # colocamos las probabilidades, predicciones y etiquetas en los arreglos\n",
        "    probabilities[i*batch_size : i*batch_size+num_outputs, :] = probs.numpy()\n",
        "    predictions[i*batch_size : i*batch_size+num_outputs] = predicted.numpy()\n",
        "    labels[i*batch_size : i*batch_size+num_outputs] = lbl.view(-1)\n",
        "\n",
        "print(\"Cantidad de muestras procesadas = \", num_samples)\n",
        "print(\"Probabilidades = \", probabilities.shape)\n",
        "print(\"Predicciones = \", predictions.shape)\n",
        "print(\"Etiquetas = \", labels.shape)"
      ],
      "metadata": {
        "colab": {
          "base_uri": "https://localhost:8080/"
        },
        "id": "Iw37Sx1f-UYl",
        "outputId": "94a72bcf-c1bd-43dd-95c1-ffdc5c8d05b8"
      },
      "execution_count": 72,
      "outputs": [
        {
          "output_type": "stream",
          "name": "stdout",
          "text": [
            "Cantidad de muestras procesadas =  27724\n",
            "Probabilidades =  (27724, 2)\n",
            "Predicciones =  (27724,)\n",
            "Etiquetas =  (27724,)\n"
          ]
        }
      ]
    },
    {
      "cell_type": "code",
      "source": [
        "from sklearn.metrics import accuracy_score, recall_score\n",
        "\n",
        "def sensitivity(y_true, y_pred):\n",
        "  # indicando que la clase positiva es 1, es exactamente igual a la sensitivity\n",
        "  return recall_score(y_true, y_pred, pos_label=1)\n",
        "\n",
        "def specificity(y_true, y_pred):\n",
        "  # indicando que la clase positiva es 0, estamos \"dándola vuelta\" y haciendo\n",
        "  # que nos calcule la especificidad\n",
        "  return recall_score(y_true, y_pred, pos_label=0)\n",
        "\n",
        "# calculamos accuracy, sensitivity y specificity\n",
        "acc_ = accuracy_score(labels, predictions)\n",
        "se_ = sensitivity(labels, predictions)\n",
        "sp_ = specificity(labels, predictions)\n",
        "# imprimimos por pantalla (recordar que 0 = avión y 1 = pájaro)\n",
        "print(\"Accuracy = {:.4f}\".format(acc_))\n",
        "print(\"Sensitivity = {:.4f}\".format(se_))\n",
        "print(\"Specificity = {:.4f}\".format(sp_))"
      ],
      "metadata": {
        "colab": {
          "base_uri": "https://localhost:8080/"
        },
        "id": "jXEcNSWj7ow9",
        "outputId": "6fed46dc-0b95-4424-b870-40c09fc936cb"
      },
      "execution_count": 73,
      "outputs": [
        {
          "output_type": "stream",
          "name": "stdout",
          "text": [
            "Accuracy = 0.9291\n",
            "Sensitivity = 0.9147\n",
            "Specificity = 0.9388\n"
          ]
        }
      ]
    },
    {
      "cell_type": "code",
      "source": [
        "import seaborn as sn\n",
        "\n",
        "# las predicciones en la columna Predicted\n",
        "df = pd.DataFrame({'GT': labels, 'Predicted': predictions}, columns=['GT','Predicted'])\n",
        "\n",
        "conf_mat = pd.crosstab(df['GT'], df['Predicted'], rownames=['GT'], colnames=['Predicted'], margins = False)\n",
        "\n",
        "ax = plt.axes()\n",
        "sn.heatmap(conf_mat, ax=ax, annot=True, fmt=\"d\")\n",
        "ax.set_title(\"Confusion matrix\")\n",
        "ax.set_xticklabels([\"Normal\", \"Maligno\"])\n",
        "ax.set_yticklabels([\"Normal\", \"Maligno\"])\n",
        "plt.show()"
      ],
      "metadata": {
        "colab": {
          "base_uri": "https://localhost:8080/",
          "height": 295
        },
        "id": "r17BCHqT7C-6",
        "outputId": "32eb16a2-012e-4703-c1e6-422771ee2d0b"
      },
      "execution_count": 74,
      "outputs": [
        {
          "output_type": "display_data",
          "data": {
            "text/plain": [
              "<Figure size 432x288 with 2 Axes>"
            ],
            "image/png": "[encoded data removed]"
          },
          "metadata": {
            "needs_background": "light"
          }
        }
      ]
    },
    {
      "cell_type": "markdown",
      "source": [
        "Curva ROC"
      ],
      "metadata": {
        "id": "U0II4pst7DsV"
      }
    },
    {
      "cell_type": "code",
      "source": [
        "from sklearn.metrics import roc_curve, auc\n",
        "\n",
        "\n",
        "def graficar_roc_curve(labels, probabilities, pos_label, color, class_names):\n",
        "\n",
        "  # calculamos la curva ROC a partir de las probabilidades y para la clase\n",
        "  # positiva dada\n",
        "  fpr, tpr, thresholds = roc_curve(labels, probabilities, pos_label=pos_label)\n",
        "  # calculamos el AUC\n",
        "  auc_ = auc(fpr, tpr)\n",
        "\n",
        "  # imprimimos la curva por pantalla\n",
        "  plt.plot(fpr, tpr, color=color)                                       # mostramos la curva\n",
        "  plt.gca().set_aspect('equal', adjustable='box')                       # siempre cuadrada!\n",
        "  plt.xlabel(\"FPR (1 - Specificity)\")                                   # siempre etiquetamos ejes\n",
        "  plt.ylabel(\"TPR (Sensitivity)\")\n",
        "  plt.legend([\"AUC = {:.4f}\".format(auc_)])                              # mostramos el AUC\n",
        "  plt.xlim([0.0, 1.0])                                                  # seteamos los límites de los\n",
        "  plt.ylim([0.0, 1.0])                                                  #     ejes\n",
        "  plt.grid(True)                                                        # mostramos una grilla\n",
        "  plt.title(\"ROC curve - Class \\\"{}\\\"\".format(class_names[pos_label]))  # titulamos la gráfica\n",
        "  plt.show()\n",
        "\n",
        "  return fpr, tpr, auc, thresholds\n",
        "\n",
        "\n",
        "\n",
        "fpr_normal, tpr_normal, auc_normal, thresh = graficar_roc_curve(labels, \n",
        "                                                      probabilities[:,1], \n",
        "                                                      pos_label=1,\n",
        "                                                      color=\"blue\",\n",
        "                                                      class_names=[\"normal\", \"maligno\"])"
      ],
      "metadata": {
        "colab": {
          "base_uri": "https://localhost:8080/",
          "height": 295
        },
        "id": "toquRtbzi51d",
        "outputId": "7ecf571a-bcf4-4aa4-bd2b-d947d45813ac"
      },
      "execution_count": 75,
      "outputs": [
        {
          "output_type": "display_data",
          "data": {
            "text/plain": [
              "<Figure size 432x288 with 1 Axes>"
            ],
            "image/png": "[encoded data removed]"
          },
          "metadata": {
            "needs_background": "light"
          }
        }
      ]
    },
    {
      "cell_type": "markdown",
      "source": [
        "#### Análisis de test"
      ],
      "metadata": {
        "id": "lIeqiGIwa9Yl"
      }
    },
    {
      "cell_type": "code",
      "source": [
        "# inicializamos el tamaño de batch\n",
        "batch_size = 64\n",
        "\n",
        "# ponemos el modelo en modo evaluación\n",
        "#fc_model.eval()\n",
        "cnn_model.eval()\n",
        "\n",
        "# inicializamos matrices y arreglos para guardar:\n",
        "# - probabilidades\n",
        "probabilities_t = np.zeros((N_test, 2))\n",
        "# - predicciones\n",
        "predictions_t = np.zeros(N_test)\n",
        "# - labels\n",
        "labels_t = np.zeros(N_test)\n",
        "\n",
        "# sin calcular el gradiente...\n",
        "with torch.no_grad():\n",
        "\n",
        "  # inicializamos un contador de muestras\n",
        "  num_samples = 0\n",
        "  # iteramos por cada batch de test\n",
        "  for i, (imgs, lbl) in enumerate(test_loader):\n",
        "    # acomodamos las imágenes al formato de entrada de la red\n",
        "    num_outputs = imgs.shape[0]\n",
        "    #print(imgs)\n",
        "    if is_fully_connected:\n",
        "      imgs = imgs.view(num_outputs, -1)\n",
        "    # actualizamos la cantidad de muestras que vamos llevando\n",
        "    num_samples = num_samples + num_outputs\n",
        "\n",
        "    # obtenemos las predicciones\n",
        "    probs = cnn_model.predict(imgs.cuda())\n",
        "    # pasamos la salida a CPU\n",
        "    probs = probs.cpu()\n",
        "    # y recuperamos la clase más probable\n",
        "    _, predicted = torch.max(probs, dim=1)\n",
        "\n",
        "    # colocamos las probabilidades, predicciones y etiquetas en los arreglos\n",
        "    probabilities_t[i*batch_size : i*batch_size+num_outputs, :] = probs.numpy()\n",
        "    predictions_t[i*batch_size : i*batch_size+num_outputs] = predicted.numpy()\n",
        "    #test_set.label.values[i*batch_size : i*batch_size+num_outputs]=np.array(range(0,num_outputs))+num_samples-num_outputs\n",
        "    test_set.label.values[i*batch_size : i*batch_size+num_outputs]=predicted.numpy()\n",
        "    \n",
        "\n",
        "print(\"Cantidad de muestras procesadas = \", num_samples)\n",
        "print(\"Probabilidades = \", probabilities_t.shape)\n",
        "print(\"Predicciones = \", predictions_t.shape)"
      ],
      "metadata": {
        "colab": {
          "base_uri": "https://localhost:8080/"
        },
        "id": "VqIdE1ucbAL0",
        "outputId": "ba28549b-b94c-4648-f7d3-38aa1e374b8e"
      },
      "execution_count": 76,
      "outputs": [
        {
          "output_type": "stream",
          "name": "stdout",
          "text": [
            "Cantidad de muestras procesadas =  57458\n",
            "Probabilidades =  (57458, 2)\n",
            "Predicciones =  (57458,)\n"
          ]
        }
      ]
    },
    {
      "cell_type": "code",
      "source": [
        "test_set"
      ],
      "metadata": {
        "colab": {
          "base_uri": "https://localhost:8080/",
          "height": 424
        },
        "id": "i4I1Q0yHb7WN",
        "outputId": "20322175-28c8-4121-c4ec-547c2d6f9dc9"
      },
      "execution_count": 77,
      "outputs": [
        {
          "output_type": "execute_result",
          "data": {
            "text/plain": [
              "                                             id  label\n",
              "0      0b2ea2a822ad23fdb1b5dd26653da899fbd2c0d5      0\n",
              "1      95596b92e5066c5c52466c90b69ff089b39f2737      1\n",
              "2      248e6738860e2ebcf6258cdc1f32f299e0c76914      0\n",
              "3      2c35657e312966e9294eac6841726ff3a748febf      0\n",
              "4      145782eb7caa1c516acbe2eda34d9a3f31c41fd6      0\n",
              "...                                         ...    ...\n",
              "57453  061847314ded6f81e1cd670748bfa2003442c9c7      0\n",
              "57454  6f3977130212641fd5808210015a609c658dcbff      0\n",
              "57455  46935f247278539eca74b54d07d666efb528a753      0\n",
              "57456  a09bcae08a82120183352e0e869181b2911d3dc1      0\n",
              "57457  d29233dc0b90c2e1a8fcedbc3e1234c3d4dbd55b      0\n",
              "\n",
              "[57458 rows x 2 columns]"
            ],
            "text/html": [
              "\n",
              "  <div id=\"df-bda9168f-8854-409e-b07f-4af858bee153\">\n",
              "    <div class=\"colab-df-container\">\n",
              "      <div>\n",
              "<style scoped>\n",
              "    .dataframe tbody tr th:only-of-type {\n",
              "        vertical-align: middle;\n",
              "    }\n",
              "\n",
              "    .dataframe tbody tr th {\n",
              "        vertical-align: top;\n",
              "    }\n",
              "\n",
              "    .dataframe thead th {\n",
              "        text-align: right;\n",
              "    }\n",
              "</style>\n",
              "<table border=\"1\" class=\"dataframe\">\n",
              "  <thead>\n",
              "    <tr style=\"text-align: right;\">\n",
              "      <th></th>\n",
              "      <th>id</th>\n",
              "      <th>label</th>\n",
              "    </tr>\n",
              "  </thead>\n",
              "  <tbody>\n",
              "    <tr>\n",
              "      <th>0</th>\n",
              "      <td>0b2ea2a822ad23fdb1b5dd26653da899fbd2c0d5</td>\n",
              "      <td>0</td>\n",
              "    </tr>\n",
              "    <tr>\n",
              "      <th>1</th>\n",
              "      <td>95596b92e5066c5c52466c90b69ff089b39f2737</td>\n",
              "      <td>1</td>\n",
              "    </tr>\n",
              "    <tr>\n",
              "      <th>2</th>\n",
              "      <td>248e6738860e2ebcf6258cdc1f32f299e0c76914</td>\n",
              "      <td>0</td>\n",
              "    </tr>\n",
              "    <tr>\n",
              "      <th>3</th>\n",
              "      <td>2c35657e312966e9294eac6841726ff3a748febf</td>\n",
              "      <td>0</td>\n",
              "    </tr>\n",
              "    <tr>\n",
              "      <th>4</th>\n",
              "      <td>145782eb7caa1c516acbe2eda34d9a3f31c41fd6</td>\n",
              "      <td>0</td>\n",
              "    </tr>\n",
              "    <tr>\n",
              "      <th>...</th>\n",
              "      <td>...</td>\n",
              "      <td>...</td>\n",
              "    </tr>\n",
              "    <tr>\n",
              "      <th>57453</th>\n",
              "      <td>061847314ded6f81e1cd670748bfa2003442c9c7</td>\n",
              "      <td>0</td>\n",
              "    </tr>\n",
              "    <tr>\n",
              "      <th>57454</th>\n",
              "      <td>6f3977130212641fd5808210015a609c658dcbff</td>\n",
              "      <td>0</td>\n",
              "    </tr>\n",
              "    <tr>\n",
              "      <th>57455</th>\n",
              "      <td>46935f247278539eca74b54d07d666efb528a753</td>\n",
              "      <td>0</td>\n",
              "    </tr>\n",
              "    <tr>\n",
              "      <th>57456</th>\n",
              "      <td>a09bcae08a82120183352e0e869181b2911d3dc1</td>\n",
              "      <td>0</td>\n",
              "    </tr>\n",
              "    <tr>\n",
              "      <th>57457</th>\n",
              "      <td>d29233dc0b90c2e1a8fcedbc3e1234c3d4dbd55b</td>\n",
              "      <td>0</td>\n",
              "    </tr>\n",
              "  </tbody>\n",
              "</table>\n",
              "<p>57458 rows × 2 columns</p>\n",
              "</div>\n",
              "      <button class=\"colab-df-convert\" onclick=\"convertToInteractive('df-bda9168f-8854-409e-b07f-4af858bee153')\"\n",
              "              title=\"Convert this dataframe to an interactive table.\"\n",
              "              style=\"display:none;\">\n",
              "        \n",
              "  <svg xmlns=\"http://www.w3.org/2000/svg\" height=\"24px\"viewBox=\"0 0 24 24\"\n",
              "       width=\"24px\">\n",
              "    <path d=\"M0 0h24v24H0V0z\" fill=\"none\"/>\n",
              "    <path d=\"M18.56 5.44l.94 2.06.94-2.06 2.06-.94-2.06-.94-.94-2.06-.94 2.06-2.06.94zm-11 1L8.5 8.5l.94-2.06 2.06-.94-2.06-.94L8.5 2.5l-.94 2.06-2.06.94zm10 10l.94 2.06.94-2.06 2.06-.94-2.06-.94-.94-2.06-.94 2.06-2.06.94z\"/><path d=\"M17.41 7.96l-1.37-1.37c-.4-.4-.92-.59-1.43-.59-.52 0-1.04.2-1.43.59L10.3 9.45l-7.72 7.72c-.78.78-.78 2.05 0 2.83L4 21.41c.39.39.9.59 1.41.59.51 0 1.02-.2 1.41-.59l7.78-7.78 2.81-2.81c.8-.78.8-2.07 0-2.86zM5.41 20L4 18.59l7.72-7.72 1.47 1.35L5.41 20z\"/>\n",
              "  </svg>\n",
              "      </button>\n",
              "      \n",
              "  <style>\n",
              "    .colab-df-container {\n",
              "      display:flex;\n",
              "      flex-wrap:wrap;\n",
              "      gap: 12px;\n",
              "    }\n",
              "\n",
              "    .colab-df-convert {\n",
              "      background-color: #E8F0FE;\n",
              "      border: none;\n",
              "      border-radius: 50%;\n",
              "      cursor: pointer;\n",
              "      display: none;\n",
              "      fill: #1967D2;\n",
              "      height: 32px;\n",
              "      padding: 0 0 0 0;\n",
              "      width: 32px;\n",
              "    }\n",
              "\n",
              "    .colab-df-convert:hover {\n",
              "      background-color: #E2EBFA;\n",
              "      box-shadow: 0px 1px 2px rgba(60, 64, 67, 0.3), 0px 1px 3px 1px rgba(60, 64, 67, 0.15);\n",
              "      fill: #174EA6;\n",
              "    }\n",
              "\n",
              "    [theme=dark] .colab-df-convert {\n",
              "      background-color: #3B4455;\n",
              "      fill: #D2E3FC;\n",
              "    }\n",
              "\n",
              "    [theme=dark] .colab-df-convert:hover {\n",
              "      background-color: #434B5C;\n",
              "      box-shadow: 0px 1px 3px 1px rgba(0, 0, 0, 0.15);\n",
              "      filter: drop-shadow(0px 1px 2px rgba(0, 0, 0, 0.3));\n",
              "      fill: #FFFFFF;\n",
              "    }\n",
              "  </style>\n",
              "\n",
              "      <script>\n",
              "        const buttonEl =\n",
              "          document.querySelector('#df-bda9168f-8854-409e-b07f-4af858bee153 button.colab-df-convert');\n",
              "        buttonEl.style.display =\n",
              "          google.colab.kernel.accessAllowed ? 'block' : 'none';\n",
              "\n",
              "        async function convertToInteractive(key) {\n",
              "          const element = document.querySelector('#df-bda9168f-8854-409e-b07f-4af858bee153');\n",
              "          const dataTable =\n",
              "            await google.colab.kernel.invokeFunction('convertToInteractive',\n",
              "                                                     [key], {});\n",
              "          if (!dataTable) return;\n",
              "\n",
              "          const docLinkHtml = 'Like what you see? Visit the ' +\n",
              "            '<a target=\"_blank\" href=https://colab.research.google.com/notebooks/data_table.ipynb>data table notebook</a>'\n",
              "            + ' to learn more about interactive tables.';\n",
              "          element.innerHTML = '';\n",
              "          dataTable['output_type'] = 'display_data';\n",
              "          await google.colab.output.renderOutput(dataTable, element);\n",
              "          const docLink = document.createElement('div');\n",
              "          docLink.innerHTML = docLinkHtml;\n",
              "          element.appendChild(docLink);\n",
              "        }\n",
              "      </script>\n",
              "    </div>\n",
              "  </div>\n",
              "  "
            ]
          },
          "metadata": {},
          "execution_count": 77
        }
      ]
    },
    {
      "cell_type": "code",
      "source": [
        "predictions_t.sum()"
      ],
      "metadata": {
        "colab": {
          "base_uri": "https://localhost:8080/"
        },
        "id": "t_gdKYpTdPPD",
        "outputId": "b0479b93-7428-4fb3-b7f4-08d8f8e38c38"
      },
      "execution_count": 78,
      "outputs": [
        {
          "output_type": "execute_result",
          "data": {
            "text/plain": [
              "19980.0"
            ]
          },
          "metadata": {},
          "execution_count": 78
        }
      ]
    },
    {
      "cell_type": "code",
      "source": [
        "img, label = histop_test_set[63]\n",
        "print(img.size())\n",
        "print(label)\n",
        "# la mostramos\n",
        "plt.imshow(img.permute(1,2,0))\n",
        "#print(img.permute(1,2,0))"
      ],
      "metadata": {
        "colab": {
          "base_uri": "https://localhost:8080/",
          "height": 320
        },
        "id": "f4G18yvQc14s",
        "outputId": "4eecabcc-4613-4eac-cdbf-2ab28a77e9f7"
      },
      "execution_count": 79,
      "outputs": [
        {
          "output_type": "stream",
          "name": "stdout",
          "text": [
            "torch.Size([3, 96, 96])\n",
            "tensor([0])\n"
          ]
        },
        {
          "output_type": "execute_result",
          "data": {
            "text/plain": [
              "<matplotlib.image.AxesImage at 0x7efc3a225f90>"
            ]
          },
          "metadata": {},
          "execution_count": 79
        },
        {
          "output_type": "display_data",
          "data": {
            "text/plain": [
              "<Figure size 432x288 with 1 Axes>"
            ],
            "image/png": "[encoded data removed]"
          },
          "metadata": {
            "needs_background": "light"
          }
        }
      ]
    },
    {
      "cell_type": "markdown",
      "source": [
        "Preparo submission\n",
        "\n",
        "Score: 0.8141\n",
        "Private score: 0.7455\n",
        "\n",
        "\n",
        "Score: 0.6864 (con transfromaciones)\n",
        "Private score: 0.6855"
      ],
      "metadata": {
        "id": "n5AXOu4xgaUQ"
      }
    },
    {
      "cell_type": "code",
      "source": [
        "test_set.to_csv('submission5.csv', index=False)"
      ],
      "metadata": {
        "id": "8ZGqxq3afXca"
      },
      "execution_count": 80,
      "outputs": []
    }
  ]
}